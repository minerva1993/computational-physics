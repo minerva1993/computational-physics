{
 "cells": [
  {
   "cell_type": "code",
   "execution_count": 1,
   "metadata": {},
   "outputs": [
    {
     "name": "stdout",
     "output_type": "stream",
     "text": [
      "Welcome to JupyROOT 6.10/06\n"
     ]
    }
   ],
   "source": [
    "#we will rely on ROOT data analysis framework for fitting\n",
    "import ROOT"
   ]
  },
  {
   "cell_type": "markdown",
   "metadata": {},
   "source": [
    "Binned maximum likelihood fitting is much faster than unbinned maximum likelihood fitting.\n",
    "\n",
    "We will use histograms as PDF yielding n = (n1,n2,n3,...,nN) in N bins."
   ]
  },
  {
   "cell_type": "code",
   "execution_count": 2,
   "metadata": {},
   "outputs": [
    {
     "name": "stdout",
     "output_type": "stream",
     "text": [
      "total number of events from  ttbar =  65.9 (raw events =  36941 )\n",
      "total number of events from  wjets =  2.5 (raw events =  109737 )\n",
      "total number of events from  dy =  19254.3 (raw events =  77729 )\n",
      "total number of events from  data =  18708.0 (raw events =  469384 )\n"
     ]
    }
   ],
   "source": [
    "from ROOT import TChain, TFile, TH1F, TCanvas\n",
    "from math import *\n",
    "\n",
    "names = [\"ttbar\",\"wjets\",\"dy\",\"data\"]\n",
    "\n",
    "for name in names:\n",
    "    # open the file\n",
    "    chain = TChain(\"events\");\n",
    "    chain.Add('files/'+name+'.root')\n",
    "\n",
    "    f = TFile('hist_'+name+'.root', 'RECREATE')\n",
    "\n",
    "    h_njets = TH1F('h_njets','number of jets',10,0.0,10.0)\n",
    "\n",
    "\n",
    "    entries = chain.GetEntries()\n",
    "    for i in xrange(entries):\n",
    "        chain.GetEntry(i)\n",
    "        #met = math.sqrt( chain.MET_px**2 + chain.MET_py**2 ) # we can use missing energy to remove Z boson events\n",
    "        if chain.NMuon > 1:\n",
    "            h_njets.Fill(chain.NJet, chain.EventWeight)\n",
    "\n",
    "    ntotal = h_njets.Integral()\n",
    "    print \"total number of events from \", name , \"= \", \"%.1f\" % ntotal, \"(raw events = \", entries , \")\"\n",
    "\n",
    "    f.Write()\n",
    "    f.Close()"
   ]
  },
  {
   "cell_type": "code",
   "execution_count": 3,
   "metadata": {},
   "outputs": [
    {
     "name": "stdout",
     "output_type": "stream",
     "text": [
      "hist_data.root  histdata.root  hist_dy.root  hist_ttbar.root  hist_wjets.root\r\n"
     ]
    }
   ],
   "source": [
    "ls *.root"
   ]
  },
  {
   "cell_type": "markdown",
   "metadata": {},
   "source": [
    "##### answer :\n",
    "\n",
    "```\n",
    "hist_data.root  hist_dy.root  hist_ttbar.root  hist_wjets.root\n",
    "```"
   ]
  },
  {
   "cell_type": "markdown",
   "metadata": {},
   "source": [
    "Now we will read the histograms. "
   ]
  },
  {
   "cell_type": "code",
   "execution_count": 4,
   "metadata": {},
   "outputs": [],
   "source": [
    "from ROOT import TChain, TFile, TH1F, TCanvas\n",
    "\n",
    "f_data = TFile(\"hist_data.root\")\n",
    "f_dy = TFile(\"hist_dy.root\")\n",
    "f_wjets = TFile(\"hist_wjets.root\")\n",
    "f_ttbar = TFile(\"hist_ttbar.root\")\n",
    "\n",
    "h_data = f_data.Get(\"h_njets\")\n",
    "h_dy = f_dy.Get(\"h_njets\")\n",
    "h_wjets = f_wjets.Get(\"h_njets\")\n",
    "h_ttbar = f_ttbar.Get(\"h_njets\")"
   ]
  },
  {
   "cell_type": "markdown",
   "metadata": {},
   "source": [
    "And check how many bins we have in the histogram."
   ]
  },
  {
   "cell_type": "code",
   "execution_count": 5,
   "metadata": {},
   "outputs": [
    {
     "name": "stdout",
     "output_type": "stream",
     "text": [
      "10\n"
     ]
    }
   ],
   "source": [
    "nbins = h_data.GetXaxis().GetNbins()\n",
    "print nbins"
   ]
  },
  {
   "cell_type": "markdown",
   "metadata": {},
   "source": [
    "##### answer:\n",
    "\n",
    "```\n",
    "10\n",
    "```"
   ]
  },
  {
   "cell_type": "markdown",
   "metadata": {},
   "source": [
    "We will use RooStats for the binned likelihood fitting. We don't need to worry about this part. \n",
    "We will just import necessary library and set the variable and histograms in this RooStats format.  "
   ]
  },
  {
   "cell_type": "code",
   "execution_count": 6,
   "metadata": {},
   "outputs": [
    {
     "name": "stdout",
     "output_type": "stream",
     "text": [
      "\n",
      "\u001b[1mRooFit v3.60 -- Developed by Wouter Verkerke and David Kirkby\u001b[0m \n",
      "                Copyright (C) 2000-2013 NIKHEF, University of California & Stanford University\n",
      "                All rights reserved, please read http://roofit.sourceforge.net/license.txt\n",
      "\n",
      "[#1] INFO:DataHandling -- RooDataHist::adjustBinning(data): fit range of variable x expanded to nearest bin boundaries: [0,10] --> [0,10]\n",
      "[#1] INFO:DataHandling -- RooDataHist::adjustBinning(ttbar): fit range of variable x expanded to nearest bin boundaries: [0,10] --> [0,10]\n",
      "[#1] INFO:DataHandling -- RooDataHist::adjustBinning(zjets): fit range of variable x expanded to nearest bin boundaries: [0,10] --> [0,10]\n",
      "[#1] INFO:DataHandling -- RooDataHist::adjustBinning(wjets): fit range of variable x expanded to nearest bin boundaries: [0,10] --> [0,10]\n"
     ]
    }
   ],
   "source": [
    "from ROOT import RooRealVar, RooDataHist, RooArgList\n",
    "x = RooRealVar(\"x\",\"x\", 0, 10) \n",
    "data = RooDataHist(\"data\",\"data\", ROOT.RooArgList(x), h_data) \n",
    "ttbar = RooDataHist(\"ttbar\",\"ttbar\", ROOT.RooArgList(x), h_ttbar) \n",
    "dy = RooDataHist(\"zjets\",\"zjets\", ROOT.RooArgList(x), h_dy) \n",
    "wjets = RooDataHist(\"wjets\",\"wjets\", ROOT.RooArgList(x), h_wjets) "
   ]
  },
  {
   "cell_type": "markdown",
   "metadata": {},
   "source": [
    "We will need to make templates for each process. "
   ]
  },
  {
   "cell_type": "code",
   "execution_count": 7,
   "metadata": {},
   "outputs": [],
   "source": [
    "from ROOT import RooHistPdf\n",
    "pdf_ttbar = RooHistPdf(\"pdf_ttbar\",\"pdf_ttbar\", ROOT.RooArgSet(x), ttbar) \n",
    "pdf_dy = RooHistPdf(\"pdf_dy\",\"pdf_dy\", ROOT.RooArgSet(x), dy) \n",
    "pdf_wjets = RooHistPdf(\"pdf_wjets\",\"pdf_wjets\", ROOT.RooArgSet(x), wjets) "
   ]
  },
  {
   "cell_type": "markdown",
   "metadata": {},
   "source": [
    "create parameter and initialize it"
   ]
  },
  {
   "cell_type": "code",
   "execution_count": 8,
   "metadata": {},
   "outputs": [],
   "source": [
    "nttbar = RooRealVar(\"nttbar\",\"nttbar\",200, 0, 10000)\n",
    "ndy = RooRealVar(\"ndy\",\"ndy\", 20000 , 0, 40000) \n",
    "nwjets = RooRealVar(\"nwjets\",\"nwjets\", 300 , 0, 10000) "
   ]
  },
  {
   "cell_type": "markdown",
   "metadata": {},
   "source": [
    "create a model\n",
    "\n",
    "extended likelihood model below\n",
    "\n",
    "$$ M(x) = N_{ttbar} \\cdot S_{ttbar} (x) + N_{dy} \\cdot B_{dy} (x) + N_{wjets} \\cdot B_{wjets} (x)  $$"
   ]
  },
  {
   "cell_type": "code",
   "execution_count": 9,
   "metadata": {},
   "outputs": [],
   "source": [
    "from ROOT import RooAddPdf\n",
    "model = RooAddPdf(\"model\",\"model\",RooArgList(pdf_ttbar, pdf_dy, pdf_wjets), RooArgList(nttbar, ndy, nwjets))"
   ]
  },
  {
   "cell_type": "markdown",
   "metadata": {},
   "source": [
    "perform the fit"
   ]
  },
  {
   "cell_type": "code",
   "execution_count": 10,
   "metadata": {},
   "outputs": [
    {
     "name": "stdout",
     "output_type": "stream",
     "text": [
      "[#1] INFO:Minization -- p.d.f. provides expected number of events, including extended term in likelihood.\n",
      "[#1] INFO:Minization -- RooMinimizer::optimizeConst: activating const optimization\n",
      "[#1] INFO:Minization --  The following expressions have been identified as constant and will be precalculated and cached: (pdf_ttbar,pdf_dy,pdf_wjets)\n",
      " **********\n",
      " **    1 **SET PRINT           1\n",
      " **********\n",
      " **********\n",
      " **    2 **SET NOGRAD\n",
      " **********\n",
      " PARAMETER DEFINITIONS:\n",
      "    NO.   NAME         VALUE      STEP SIZE      LIMITS\n",
      "     1 ndy          2.00000e+04  4.00000e+03    0.00000e+00  4.00000e+04\n",
      "     2 nttbar       2.00000e+02  1.00000e+02    0.00000e+00  1.00000e+04\n",
      "     3 nwjets       3.00000e+02  1.50000e+02    0.00000e+00  1.00000e+04\n",
      " **********\n",
      " **    3 **SET ERR         0.5\n",
      " **********\n",
      " **********\n",
      " **    4 **SET PRINT           1\n",
      " **********\n",
      " **********\n",
      " **    5 **SET STR           1\n",
      " **********\n",
      " NOW USING STRATEGY  1: TRY TO BALANCE SPEED AGAINST RELIABILITY\n",
      " **********\n",
      " **    6 **MIGRAD        1500           1\n",
      " **********\n",
      " FIRST CALL TO USER FUNCTION AT NEW START POINT, WITH IFLAG=4.\n",
      " START MIGRAD MINIMIZATION.  STRATEGY  1.  CONVERGENCE WHEN EDM .LT. 1.00e-03\n",
      " FCN=-154382 FROM MIGRAD    STATUS=INITIATE       12 CALLS          13 TOTAL\n",
      "                     EDM= unknown      STRATEGY= 1      NO ERROR MATRIX       \n",
      "  EXT PARAMETER               CURRENT GUESS       STEP         FIRST   \n",
      "  NO.   NAME      VALUE            ERROR          SIZE      DERIVATIVE \n",
      "   1  ndy          2.00000e+04   4.00000e+03   2.01358e-01   1.73465e+03\n",
      "   2  nttbar       2.00000e+02   1.00000e+02   7.39156e-02   1.79856e+02\n",
      "   3  nwjets       3.00000e+02   1.50000e+02   9.09734e-02   1.79548e+02\n",
      "                               ERR DEF= 0.5\n",
      " MIGRAD MINIMIZATION HAS CONVERGED.\n",
      " MIGRAD WILL VERIFY CONVERGENCE AND ERROR MATRIX.\n",
      " COVARIANCE MATRIX CALCULATED SUCCESSFULLY\n",
      " FCN=-154468 FROM MIGRAD    STATUS=CONVERGED      84 CALLS          85 TOTAL\n",
      "                     EDM=4.44718e-06    STRATEGY= 1      ERROR MATRIX ACCURATE \n",
      "  EXT PARAMETER                                   STEP         FIRST   \n",
      "  NO.   NAME      VALUE            ERROR          SIZE      DERIVATIVE \n",
      "   1  ndy          1.85591e+04   1.39922e+02   1.85996e-03   1.05868e-01\n",
      "   2  nttbar       1.48975e+02   3.21787e+01   7.06162e-03  -2.19849e-02\n",
      "   3  nwjets       1.59116e-04   4.44704e+01   3.59335e-02** at limit **\n",
      "                               ERR DEF= 0.5\n",
      " EXTERNAL ERROR MATRIX.    NDIM=  25    NPAR=  3    ERR DEF=0.5\n",
      "  1.958e+04 -8.817e+02 -1.890e+00 \n",
      " -8.817e+02  1.036e+03 -1.295e-01 \n",
      " -1.890e+00 -1.295e-01  2.835e-02 \n",
      " PARAMETER  CORRELATION COEFFICIENTS  \n",
      "       NO.  GLOBAL      1      2      3\n",
      "        1  0.21341   1.000 -0.196 -0.080\n",
      "        2  0.19978  -0.196  1.000 -0.024\n",
      "        3  0.08981  -0.080 -0.024  1.000\n",
      " **********\n",
      " **    7 **SET ERR         0.5\n",
      " **********\n",
      " **********\n",
      " **    8 **SET PRINT           1\n",
      " **********\n",
      " **********\n",
      " **    9 **HESSE        1500\n",
      " **********\n",
      " COVARIANCE MATRIX CALCULATED SUCCESSFULLY\n",
      " FCN=-154468 FROM HESSE     STATUS=OK             16 CALLS         101 TOTAL\n",
      "                     EDM=4.59032e-06    STRATEGY= 1      ERROR MATRIX ACCURATE \n",
      "  EXT PARAMETER                                INTERNAL      INTERNAL  \n",
      "  NO.   NAME      VALUE            ERROR       STEP SIZE       VALUE   \n",
      "   1  ndy          1.85591e+04   1.39465e+02   7.43984e-05  -7.21064e-02\n",
      "   2  nttbar       1.48975e+02   3.21622e+01   2.82465e-04  -1.32608e+00\n",
      "   3  nwjets       1.59116e-04   4.46058e+01   7.18670e-03  -1.57054e+00\n",
      "                                 WARNING -   - ABOVE PARAMETER IS AT LIMIT.\n",
      "                               ERR DEF= 0.5\n",
      " EXTERNAL ERROR MATRIX.    NDIM=  25    NPAR=  3    ERR DEF=0.5\n",
      "  1.945e+04 -8.855e+02 -4.013e-01 \n",
      " -8.855e+02  1.035e+03 -2.718e-02 \n",
      " -4.013e-01 -2.718e-02  2.843e-02 \n",
      " PARAMETER  CORRELATION COEFFICIENTS  \n",
      "       NO.  GLOBAL      1      2      3\n",
      "        1  0.19820   1.000 -0.197 -0.017\n",
      "        2  0.19756  -0.197  1.000 -0.005\n",
      "        3  0.01909  -0.017 -0.005  1.000\n",
      "[#1] INFO:Minization -- RooMinimizer::optimizeConst: deactivating const optimization\n"
     ]
    }
   ],
   "source": [
    "fitResult = model.fitTo( data );"
   ]
  },
  {
   "cell_type": "markdown",
   "metadata": {},
   "source": [
    "We will visualize the fit result. Each histogram will have the post fit number for normalization. "
   ]
  },
  {
   "cell_type": "code",
   "execution_count": 18,
   "metadata": {},
   "outputs": [
    {
     "name": "stdout",
     "output_type": "stream",
     "text": [
      "[#1] INFO:Plotting -- RooAbsPdf::plotOn(model) directly selected PDF components: (pdf_wjets,pdf_dy,pdf_ttbar)\n",
      "[#1] INFO:Plotting -- RooAbsPdf::plotOn(model) indirectly selected PDF components: ()\n",
      "[#1] INFO:Plotting -- RooAbsPdf::plotOn(model) directly selected PDF components: (pdf_wjets,pdf_dy)\n",
      "[#1] INFO:Plotting -- RooAbsPdf::plotOn(model) indirectly selected PDF components: ()\n",
      "[#1] INFO:Plotting -- RooAbsPdf::plotOn(model) directly selected PDF components: (pdf_wjets)\n",
      "[#1] INFO:Plotting -- RooAbsPdf::plotOn(model) indirectly selected PDF components: ()\n"
     ]
    },
    {
     "name": "stderr",
     "output_type": "stream",
     "text": [
      "Warning in <TCanvas::Constructor>: Deleting canvas with same name: c\n"
     ]
    },
    {
     "data": {
      "image/png": "[encoded data removed]",
      "text/plain": [
       "<IPython.core.display.Image object>"
      ]
     },
     "metadata": {},
     "output_type": "display_data"
    }
   ],
   "source": [
    "c = TCanvas(\"c\",\"c\",1)\n",
    "xframe = x.frame() \n",
    "data.plotOn(xframe)\n",
    "model.paramOn(xframe, ROOT.RooFit.Layout(0.65,0.9,0.9) )\n",
    "model.plotOn(xframe,ROOT.RooFit.Components(\"pdf_wjets,pdf_dy,pdf_ttbar\"),ROOT.RooFit.LineColor(2),ROOT.RooFit.FillColor(2),ROOT.RooFit.DrawOption(\"F\")) \n",
    "model.plotOn(xframe,ROOT.RooFit.Components(\"pdf_wjets,pdf_dy\"),ROOT.RooFit.LineColor(5),ROOT.RooFit.FillColor(5),ROOT.RooFit.DrawOption(\"F\")) \n",
    "model.plotOn(xframe,ROOT.RooFit.Components(\"pdf_wjets\"),ROOT.RooFit.LineColor(3),ROOT.RooFit.FillColor(3),ROOT.RooFit.DrawOption(\"F\")) \n",
    "model.plotOn(xframe)\n",
    "data.plotOn(xframe)\n",
    "xframe.Draw()\n",
    "c.SetLogy()\n",
    "c.Draw()"
   ]
  },
  {
   "cell_type": "markdown",
   "metadata": {},
   "source": [
    "##### task\n",
    "\n",
    "Can you wriate a macro to fit again including single_top process this time?"
   ]
  },
  {
   "cell_type": "code",
   "execution_count": null,
   "metadata": {},
   "outputs": [],
   "source": []
  }
 ],
 "metadata": {
  "kernelspec": {
   "display_name": "Python 2",
   "language": "python",
   "name": "python2"
  },
  "language_info": {
   "codemirror_mode": {
    "name": "ipython",
    "version": 2
   },
   "file_extension": ".py",
   "mimetype": "text/x-python",
   "name": "python",
   "nbconvert_exporter": "python",
   "pygments_lexer": "ipython2",
   "version": "2.7.12"
  }
 },
 "nbformat": 4,
 "nbformat_minor": 2
}
