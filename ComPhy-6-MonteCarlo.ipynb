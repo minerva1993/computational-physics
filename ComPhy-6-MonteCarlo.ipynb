{
 "cells": [
  {
   "cell_type": "markdown",
   "metadata": {},
   "source": [
    "### Monte Carlo method"
   ]
  },
  {
   "cell_type": "markdown",
   "metadata": {},
   "source": [
    "#### Liner Congruential Generator "
   ]
  },
  {
   "cell_type": "markdown",
   "metadata": {},
   "source": [
    "We will test a simple random number generator using **liner congruential generator** which is given by:\n",
    "\n",
    "$$ I_{i+1} ~ = ~ (a I_i + c) ~ mod ~ (m) $$  \n",
    "\n",
    "where ```m``` is the modulus and ```a``` and ```c``` are constants chosen by the programmer. \n",
    "This recursive relation generates the next random integer from the previous one. \n",
    "\n",
    "However, this has some problems. If the number $I_{i+1}$ has shown up before already, the whole sequence repeats and you have reached the end of the period. Then you can predict a later random number by looking at a previous one. "
   ]
  },
  {
   "cell_type": "code",
   "execution_count": null,
   "metadata": {},
   "outputs": [],
   "source": [
    "random = 0\n",
    "def rand_ak( random):\n",
    "    a = 5\n",
    "    c = 319\n",
    "    m = 65537\n",
    "    \n",
    "    random = (a*random + c) % m\n",
    "    \n",
    "    return random"
   ]
  },
  {
   "cell_type": "markdown",
   "metadata": {},
   "source": [
    "Now we will make a plot using matplotlib. "
   ]
  },
  {
   "cell_type": "code",
   "execution_count": null,
   "metadata": {},
   "outputs": [],
   "source": [
    "import matplotlib.pyplot as plt\n",
    "import numpy as np"
   ]
  },
  {
   "cell_type": "markdown",
   "metadata": {},
   "source": [
    "##### 1D plot"
   ]
  },
  {
   "cell_type": "code",
   "execution_count": null,
   "metadata": {},
   "outputs": [],
   "source": [
    "x = []\n",
    "r = 1\n",
    "for i in range(100000):\n",
    "    r = rand_ak(r)\n",
    "    x.append(r)\n",
    "\n",
    "# the histogram of the data\n",
    "plt.hist(x, 100, facecolor='g', alpha=0.75)\n",
    "plt.xlabel('r')\n",
    "plt.ylabel('Probability')\n",
    "plt.title('random number')\n",
    "plt.axis([0, 60000, 0, 1100])\n",
    "plt.grid(True)\n",
    "plt.show()"
   ]
  },
  {
   "cell_type": "markdown",
   "metadata": {},
   "source": [
    "Can you check if your random generator is doing the good job with this histogram?\n",
    "\n",
    "If you are not sure, it would be more visible with 2D plot. \n",
    "\n",
    "We will generate random numbers for x- and y-components and make 2D histogram. "
   ]
  },
  {
   "cell_type": "markdown",
   "metadata": {},
   "source": [
    "##### 2D plot"
   ]
  },
  {
   "cell_type": "code",
   "execution_count": null,
   "metadata": {},
   "outputs": [],
   "source": [
    "from matplotlib.colors import LogNorm\n",
    "import matplotlib.pyplot as plt\n",
    "import numpy as np\n",
    "\n",
    "x = []\n",
    "y = []\n",
    "rx = 1\n",
    "ry = 0\n",
    "for i in range(100000):\n",
    "    rx = rand_ak(rx)\n",
    "    ry = rand_ak(ry)\n",
    "    x.append(rx)\n",
    "    y.append(ry)"
   ]
  },
  {
   "cell_type": "markdown",
   "metadata": {},
   "source": [
    "Now plot 2D with x and y from your random number generator **rand_ak**"
   ]
  },
  {
   "cell_type": "code",
   "execution_count": null,
   "metadata": {},
   "outputs": [],
   "source": [
    "plt.xlabel('r')\n",
    "plt.ylabel('Probability')\n",
    "plt.title('random number')\n",
    "\n",
    "plt.hist2d(x, y, bins=40, norm=LogNorm())\n",
    "plt.colorbar()\n",
    "plt.show()"
   ]
  },
  {
   "cell_type": "markdown",
   "metadata": {},
   "source": [
    "How about now? Do you think your random number generator generates real random numbers?"
   ]
  },
  {
   "cell_type": "markdown",
   "metadata": {},
   "source": [
    "#### TRandom3 generator"
   ]
  },
  {
   "cell_type": "markdown",
   "metadata": {},
   "source": [
    "Now we will use ```TRandom3``` from ***ROOT*** package.\n",
    "This has large period ```2**19937 -1```. And it is fast. "
   ]
  },
  {
   "cell_type": "markdown",
   "metadata": {},
   "source": [
    "##### 1D plot"
   ]
  },
  {
   "cell_type": "code",
   "execution_count": null,
   "metadata": {},
   "outputs": [],
   "source": [
    "from ROOT import TChain, TFile, TRandom3\n",
    "\n",
    "rand = TRandom3(0)\n",
    "x = []\n",
    "for i in range(100000):\n",
    "    r = rand.Uniform(0,60000)\n",
    "    x.append(r)\n",
    "    \n",
    "\n",
    "# the histogram of the data\n",
    "plt.hist(x, 100, facecolor='g', alpha=0.75)\n",
    "\n",
    "plt.xlabel('r')\n",
    "plt.ylabel('Probability')\n",
    "plt.title('random number')\n",
    "plt.axis([10000, 60000, 0, 1100])\n",
    "plt.grid(True)\n",
    "plt.show()"
   ]
  },
  {
   "cell_type": "markdown",
   "metadata": {},
   "source": [
    "##### 2D plot"
   ]
  },
  {
   "cell_type": "code",
   "execution_count": null,
   "metadata": {},
   "outputs": [],
   "source": [
    "from ROOT import TChain, TFile, TRandom3\n",
    "\n",
    "randx = TRandom3(0)\n",
    "randy = TRandom3(1)\n",
    "x = []\n",
    "y = []\n",
    "for i in range(100000):\n",
    "    rx = randx.Uniform(0,60000)\n",
    "    ry = randy.Uniform(0,60000)\n",
    "    x.append(rx)\n",
    "    y.append(ry)\n",
    "\n",
    "plt.xlabel('r')\n",
    "plt.ylabel('Probability')\n",
    "plt.title('random number')\n",
    "\n",
    "plt.hist2d(x, y, bins=40, norm=LogNorm())\n",
    "plt.colorbar()\n",
    "plt.show()"
   ]
  },
  {
   "cell_type": "markdown",
   "metadata": {},
   "source": [
    "How about now? Do you think your random number generator generates real random numbers?"
   ]
  },
  {
   "cell_type": "markdown",
   "metadata": {},
   "source": [
    "#### Task "
   ]
  },
  {
   "cell_type": "markdown",
   "metadata": {},
   "source": [
    "If a very poor player throws darts at a board on which a circle is inscribed in a square, the ratio of darts falling in the circle to those within the square would be equal to the ratio of their areas, i.e. $\\pi/4$. Evaulate $\\pi$ by using Monte Carlo calculations.\n",
    "\n",
    "Hint : Use random numbers to deﬁne the x- and y- coordinates of a point in the region"
   ]
  },
  {
   "cell_type": "code",
   "execution_count": null,
   "metadata": {},
   "outputs": [],
   "source": []
  },
  {
   "cell_type": "markdown",
   "metadata": {},
   "source": [
    "#### Homework 1"
   ]
  },
  {
   "cell_type": "markdown",
   "metadata": {},
   "source": [
    "Can you use Monte Carlo integration to calculate \n",
    "$$ \\int_0^1 \\frac{ ln(x)}{ 1-x } dx$$"
   ]
  },
  {
   "cell_type": "code",
   "execution_count": null,
   "metadata": {},
   "outputs": [],
   "source": []
  },
  {
   "cell_type": "markdown",
   "metadata": {},
   "source": [
    "#### Homework 2"
   ]
  },
  {
   "cell_type": "markdown",
   "metadata": {},
   "source": [
    "Can you generate numbers which follow the distribution of $f(x)=\\sin \\theta$ from 0 to 180 using acceptance and rejection method?"
   ]
  },
  {
   "cell_type": "code",
   "execution_count": null,
   "metadata": {},
   "outputs": [],
   "source": []
  }
 ],
 "metadata": {
  "kernelspec": {
   "display_name": "Python 2",
   "language": "python",
   "name": "python2"
  }
 },
 "nbformat": 4,
 "nbformat_minor": 2
}
